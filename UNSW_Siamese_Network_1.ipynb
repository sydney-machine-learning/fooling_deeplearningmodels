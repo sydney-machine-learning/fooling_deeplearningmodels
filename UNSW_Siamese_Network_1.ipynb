{
  "nbformat": 4,
  "nbformat_minor": 0,
  "metadata": {
    "colab": {
      "name": "UNSW-Siamese_Network-1",
      "provenance": [],
      "toc_visible": true
    },
    "kernelspec": {
      "name": "python3",
      "display_name": "Python 3"
    },
    "widgets": {
      "application/vnd.jupyter.widget-state+json": {
        "07168e707d45427c9841325f132f55ce": {
          "model_module": "@jupyter-widgets/controls",
          "model_name": "HBoxModel",
          "state": {
            "_view_name": "HBoxView",
            "_dom_classes": [],
            "_model_name": "HBoxModel",
            "_view_module": "@jupyter-widgets/controls",
            "_model_module_version": "1.5.0",
            "_view_count": null,
            "_view_module_version": "1.5.0",
            "box_style": "",
            "layout": "IPY_MODEL_60acbfa7b472499d9a74794b9da9993b",
            "_model_module": "@jupyter-widgets/controls",
            "children": [
              "IPY_MODEL_97af262c2d1d4a6694edbb5b3ff0454a",
              "IPY_MODEL_9b444a315800467ba1e8edaa5a02daf5"
            ]
          }
        },
        "60acbfa7b472499d9a74794b9da9993b": {
          "model_module": "@jupyter-widgets/base",
          "model_name": "LayoutModel",
          "state": {
            "_view_name": "LayoutView",
            "grid_template_rows": null,
            "right": null,
            "justify_content": null,
            "_view_module": "@jupyter-widgets/base",
            "overflow": null,
            "_model_module_version": "1.2.0",
            "_view_count": null,
            "flex_flow": null,
            "width": null,
            "min_width": null,
            "border": null,
            "align_items": null,
            "bottom": null,
            "_model_module": "@jupyter-widgets/base",
            "top": null,
            "grid_column": null,
            "overflow_y": null,
            "overflow_x": null,
            "grid_auto_flow": null,
            "grid_area": null,
            "grid_template_columns": null,
            "flex": null,
            "_model_name": "LayoutModel",
            "justify_items": null,
            "grid_row": null,
            "max_height": null,
            "align_content": null,
            "visibility": null,
            "align_self": null,
            "height": null,
            "min_height": null,
            "padding": null,
            "grid_auto_rows": null,
            "grid_gap": null,
            "max_width": null,
            "order": null,
            "_view_module_version": "1.2.0",
            "grid_template_areas": null,
            "object_position": null,
            "object_fit": null,
            "grid_auto_columns": null,
            "margin": null,
            "display": null,
            "left": null
          }
        },
        "97af262c2d1d4a6694edbb5b3ff0454a": {
          "model_module": "@jupyter-widgets/controls",
          "model_name": "FloatProgressModel",
          "state": {
            "_view_name": "ProgressView",
            "style": "IPY_MODEL_9ab18d7031e644f8abfaca093176df5f",
            "_dom_classes": [],
            "description": "100%",
            "_model_name": "FloatProgressModel",
            "bar_style": "success",
            "max": 40,
            "_view_module": "@jupyter-widgets/controls",
            "_model_module_version": "1.5.0",
            "value": 40,
            "_view_count": null,
            "_view_module_version": "1.5.0",
            "orientation": "horizontal",
            "min": 0,
            "description_tooltip": null,
            "_model_module": "@jupyter-widgets/controls",
            "layout": "IPY_MODEL_e04c72928da647d7af1dbb4700852f59"
          }
        },
        "9b444a315800467ba1e8edaa5a02daf5": {
          "model_module": "@jupyter-widgets/controls",
          "model_name": "HTMLModel",
          "state": {
            "_view_name": "HTMLView",
            "style": "IPY_MODEL_b2c704682416490c99bca9d4d44b8226",
            "_dom_classes": [],
            "description": "",
            "_model_name": "HTMLModel",
            "placeholder": "​",
            "_view_module": "@jupyter-widgets/controls",
            "_model_module_version": "1.5.0",
            "value": " 40/40 [02:15&lt;00:00,  3.39s/it]",
            "_view_count": null,
            "_view_module_version": "1.5.0",
            "description_tooltip": null,
            "_model_module": "@jupyter-widgets/controls",
            "layout": "IPY_MODEL_1f904904015d4e17aa4c693bcccb77f4"
          }
        },
        "9ab18d7031e644f8abfaca093176df5f": {
          "model_module": "@jupyter-widgets/controls",
          "model_name": "ProgressStyleModel",
          "state": {
            "_view_name": "StyleView",
            "_model_name": "ProgressStyleModel",
            "description_width": "initial",
            "_view_module": "@jupyter-widgets/base",
            "_model_module_version": "1.5.0",
            "_view_count": null,
            "_view_module_version": "1.2.0",
            "bar_color": null,
            "_model_module": "@jupyter-widgets/controls"
          }
        },
        "e04c72928da647d7af1dbb4700852f59": {
          "model_module": "@jupyter-widgets/base",
          "model_name": "LayoutModel",
          "state": {
            "_view_name": "LayoutView",
            "grid_template_rows": null,
            "right": null,
            "justify_content": null,
            "_view_module": "@jupyter-widgets/base",
            "overflow": null,
            "_model_module_version": "1.2.0",
            "_view_count": null,
            "flex_flow": null,
            "width": null,
            "min_width": null,
            "border": null,
            "align_items": null,
            "bottom": null,
            "_model_module": "@jupyter-widgets/base",
            "top": null,
            "grid_column": null,
            "overflow_y": null,
            "overflow_x": null,
            "grid_auto_flow": null,
            "grid_area": null,
            "grid_template_columns": null,
            "flex": null,
            "_model_name": "LayoutModel",
            "justify_items": null,
            "grid_row": null,
            "max_height": null,
            "align_content": null,
            "visibility": null,
            "align_self": null,
            "height": null,
            "min_height": null,
            "padding": null,
            "grid_auto_rows": null,
            "grid_gap": null,
            "max_width": null,
            "order": null,
            "_view_module_version": "1.2.0",
            "grid_template_areas": null,
            "object_position": null,
            "object_fit": null,
            "grid_auto_columns": null,
            "margin": null,
            "display": null,
            "left": null
          }
        },
        "b2c704682416490c99bca9d4d44b8226": {
          "model_module": "@jupyter-widgets/controls",
          "model_name": "DescriptionStyleModel",
          "state": {
            "_view_name": "StyleView",
            "_model_name": "DescriptionStyleModel",
            "description_width": "",
            "_view_module": "@jupyter-widgets/base",
            "_model_module_version": "1.5.0",
            "_view_count": null,
            "_view_module_version": "1.2.0",
            "_model_module": "@jupyter-widgets/controls"
          }
        },
        "1f904904015d4e17aa4c693bcccb77f4": {
          "model_module": "@jupyter-widgets/base",
          "model_name": "LayoutModel",
          "state": {
            "_view_name": "LayoutView",
            "grid_template_rows": null,
            "right": null,
            "justify_content": null,
            "_view_module": "@jupyter-widgets/base",
            "overflow": null,
            "_model_module_version": "1.2.0",
            "_view_count": null,
            "flex_flow": null,
            "width": null,
            "min_width": null,
            "border": null,
            "align_items": null,
            "bottom": null,
            "_model_module": "@jupyter-widgets/base",
            "top": null,
            "grid_column": null,
            "overflow_y": null,
            "overflow_x": null,
            "grid_auto_flow": null,
            "grid_area": null,
            "grid_template_columns": null,
            "flex": null,
            "_model_name": "LayoutModel",
            "justify_items": null,
            "grid_row": null,
            "max_height": null,
            "align_content": null,
            "visibility": null,
            "align_self": null,
            "height": null,
            "min_height": null,
            "padding": null,
            "grid_auto_rows": null,
            "grid_gap": null,
            "max_width": null,
            "order": null,
            "_view_module_version": "1.2.0",
            "grid_template_areas": null,
            "object_position": null,
            "object_fit": null,
            "grid_auto_columns": null,
            "margin": null,
            "display": null,
            "left": null
          }
        },
        "f4c84cebcfab410fa63bcf15b5cc809f": {
          "model_module": "@jupyter-widgets/controls",
          "model_name": "HBoxModel",
          "state": {
            "_view_name": "HBoxView",
            "_dom_classes": [],
            "_model_name": "HBoxModel",
            "_view_module": "@jupyter-widgets/controls",
            "_model_module_version": "1.5.0",
            "_view_count": null,
            "_view_module_version": "1.5.0",
            "box_style": "",
            "layout": "IPY_MODEL_4671b666ca744887b3278c240f076948",
            "_model_module": "@jupyter-widgets/controls",
            "children": [
              "IPY_MODEL_fac4de927c774b08915e0e3d087bc3eb",
              "IPY_MODEL_905114d777964d7d81f3acb151932a22"
            ]
          }
        },
        "4671b666ca744887b3278c240f076948": {
          "model_module": "@jupyter-widgets/base",
          "model_name": "LayoutModel",
          "state": {
            "_view_name": "LayoutView",
            "grid_template_rows": null,
            "right": null,
            "justify_content": null,
            "_view_module": "@jupyter-widgets/base",
            "overflow": null,
            "_model_module_version": "1.2.0",
            "_view_count": null,
            "flex_flow": null,
            "width": null,
            "min_width": null,
            "border": null,
            "align_items": null,
            "bottom": null,
            "_model_module": "@jupyter-widgets/base",
            "top": null,
            "grid_column": null,
            "overflow_y": null,
            "overflow_x": null,
            "grid_auto_flow": null,
            "grid_area": null,
            "grid_template_columns": null,
            "flex": null,
            "_model_name": "LayoutModel",
            "justify_items": null,
            "grid_row": null,
            "max_height": null,
            "align_content": null,
            "visibility": null,
            "align_self": null,
            "height": null,
            "min_height": null,
            "padding": null,
            "grid_auto_rows": null,
            "grid_gap": null,
            "max_width": null,
            "order": null,
            "_view_module_version": "1.2.0",
            "grid_template_areas": null,
            "object_position": null,
            "object_fit": null,
            "grid_auto_columns": null,
            "margin": null,
            "display": null,
            "left": null
          }
        },
        "fac4de927c774b08915e0e3d087bc3eb": {
          "model_module": "@jupyter-widgets/controls",
          "model_name": "FloatProgressModel",
          "state": {
            "_view_name": "ProgressView",
            "style": "IPY_MODEL_c350e54ad7e6468aa0f3b08ad9e9b107",
            "_dom_classes": [],
            "description": "100%",
            "_model_name": "FloatProgressModel",
            "bar_style": "success",
            "max": 15,
            "_view_module": "@jupyter-widgets/controls",
            "_model_module_version": "1.5.0",
            "value": 15,
            "_view_count": null,
            "_view_module_version": "1.5.0",
            "orientation": "horizontal",
            "min": 0,
            "description_tooltip": null,
            "_model_module": "@jupyter-widgets/controls",
            "layout": "IPY_MODEL_4c2aedef78a8435599e44fde34a42132"
          }
        },
        "905114d777964d7d81f3acb151932a22": {
          "model_module": "@jupyter-widgets/controls",
          "model_name": "HTMLModel",
          "state": {
            "_view_name": "HTMLView",
            "style": "IPY_MODEL_67662d4986e64d168d954dd63ac7d1a5",
            "_dom_classes": [],
            "description": "",
            "_model_name": "HTMLModel",
            "placeholder": "​",
            "_view_module": "@jupyter-widgets/controls",
            "_model_module_version": "1.5.0",
            "value": " 15/15 [00:10&lt;00:00,  1.48it/s]",
            "_view_count": null,
            "_view_module_version": "1.5.0",
            "description_tooltip": null,
            "_model_module": "@jupyter-widgets/controls",
            "layout": "IPY_MODEL_2c65e1ff077649a1b28a6f516249fee4"
          }
        },
        "c350e54ad7e6468aa0f3b08ad9e9b107": {
          "model_module": "@jupyter-widgets/controls",
          "model_name": "ProgressStyleModel",
          "state": {
            "_view_name": "StyleView",
            "_model_name": "ProgressStyleModel",
            "description_width": "initial",
            "_view_module": "@jupyter-widgets/base",
            "_model_module_version": "1.5.0",
            "_view_count": null,
            "_view_module_version": "1.2.0",
            "bar_color": null,
            "_model_module": "@jupyter-widgets/controls"
          }
        },
        "4c2aedef78a8435599e44fde34a42132": {
          "model_module": "@jupyter-widgets/base",
          "model_name": "LayoutModel",
          "state": {
            "_view_name": "LayoutView",
            "grid_template_rows": null,
            "right": null,
            "justify_content": null,
            "_view_module": "@jupyter-widgets/base",
            "overflow": null,
            "_model_module_version": "1.2.0",
            "_view_count": null,
            "flex_flow": null,
            "width": null,
            "min_width": null,
            "border": null,
            "align_items": null,
            "bottom": null,
            "_model_module": "@jupyter-widgets/base",
            "top": null,
            "grid_column": null,
            "overflow_y": null,
            "overflow_x": null,
            "grid_auto_flow": null,
            "grid_area": null,
            "grid_template_columns": null,
            "flex": null,
            "_model_name": "LayoutModel",
            "justify_items": null,
            "grid_row": null,
            "max_height": null,
            "align_content": null,
            "visibility": null,
            "align_self": null,
            "height": null,
            "min_height": null,
            "padding": null,
            "grid_auto_rows": null,
            "grid_gap": null,
            "max_width": null,
            "order": null,
            "_view_module_version": "1.2.0",
            "grid_template_areas": null,
            "object_position": null,
            "object_fit": null,
            "grid_auto_columns": null,
            "margin": null,
            "display": null,
            "left": null
          }
        },
        "67662d4986e64d168d954dd63ac7d1a5": {
          "model_module": "@jupyter-widgets/controls",
          "model_name": "DescriptionStyleModel",
          "state": {
            "_view_name": "StyleView",
            "_model_name": "DescriptionStyleModel",
            "description_width": "",
            "_view_module": "@jupyter-widgets/base",
            "_model_module_version": "1.5.0",
            "_view_count": null,
            "_view_module_version": "1.2.0",
            "_model_module": "@jupyter-widgets/controls"
          }
        },
        "2c65e1ff077649a1b28a6f516249fee4": {
          "model_module": "@jupyter-widgets/base",
          "model_name": "LayoutModel",
          "state": {
            "_view_name": "LayoutView",
            "grid_template_rows": null,
            "right": null,
            "justify_content": null,
            "_view_module": "@jupyter-widgets/base",
            "overflow": null,
            "_model_module_version": "1.2.0",
            "_view_count": null,
            "flex_flow": null,
            "width": null,
            "min_width": null,
            "border": null,
            "align_items": null,
            "bottom": null,
            "_model_module": "@jupyter-widgets/base",
            "top": null,
            "grid_column": null,
            "overflow_y": null,
            "overflow_x": null,
            "grid_auto_flow": null,
            "grid_area": null,
            "grid_template_columns": null,
            "flex": null,
            "_model_name": "LayoutModel",
            "justify_items": null,
            "grid_row": null,
            "max_height": null,
            "align_content": null,
            "visibility": null,
            "align_self": null,
            "height": null,
            "min_height": null,
            "padding": null,
            "grid_auto_rows": null,
            "grid_gap": null,
            "max_width": null,
            "order": null,
            "_view_module_version": "1.2.0",
            "grid_template_areas": null,
            "object_position": null,
            "object_fit": null,
            "grid_auto_columns": null,
            "margin": null,
            "display": null,
            "left": null
          }
        }
      }
    },
    "accelerator": "GPU"
  },
  "cells": [
    {
      "cell_type": "code",
      "metadata": {
        "id": "8ZASPeDyYjZI",
        "colab_type": "code",
        "colab": {}
      },
      "source": [
        "# WE WILL BE TRAINING ON 40 CLASSES OUT OF 55 CLASSES (1-40)\n",
        "# THE REMAINING 15 CLASSES WILL BE LATER USED IN THE EVALUATION PHASE (41-55)"
      ],
      "execution_count": null,
      "outputs": []
    },
    {
      "cell_type": "markdown",
      "metadata": {
        "id": "fIm9jZeASKa8",
        "colab_type": "text"
      },
      "source": [
        "# IMPORTING LIBRARIES"
      ]
    },
    {
      "cell_type": "code",
      "metadata": {
        "id": "6sAh-XWZRFqd",
        "colab_type": "code",
        "colab": {}
      },
      "source": [
        "import os\n",
        "import time\n",
        "import random\n",
        "import pandas as pd\n",
        "import numpy as np\n",
        "rng = np.random.default_rng()\n",
        "import matplotlib.pyplot as plt\n",
        "plt.style.use(\"ggplot\")\n",
        "%matplotlib inline\n",
        "\n",
        "from tqdm import tqdm_notebook, tnrange\n",
        "from itertools import chain\n",
        "from skimage.io import imread, imshow, concatenate_images\n",
        "from skimage.transform import resize\n",
        "from skimage.morphology import label\n",
        "from sklearn.model_selection import train_test_split\n",
        "from sklearn.utils import shuffle\n",
        "import cv2\n",
        "\n",
        "import tensorflow as tf\n",
        "from tensorflow.keras import initializers\n",
        "from keras import backend as K\n",
        "from keras.models import Model, load_model, Sequential\n",
        "from keras.regularizers import l2\n",
        "from keras.layers import Input, BatchNormalization, Activation, Dense, Dropout, UpSampling2D\n",
        "from keras.layers.core import Lambda, RepeatVector, Reshape, Flatten, Dense\n",
        "from keras.layers.convolutional import Conv2D, Conv2DTranspose\n",
        "from keras.layers.pooling import MaxPooling2D, GlobalMaxPool2D\n",
        "from keras.layers.merge import concatenate, add\n",
        "from keras.callbacks import EarlyStopping, ModelCheckpoint, ReduceLROnPlateau\n",
        "from keras.optimizers import Adam\n",
        "from keras.preprocessing.image import ImageDataGenerator, array_to_img, img_to_array, load_img"
      ],
      "execution_count": 2,
      "outputs": []
    },
    {
      "cell_type": "markdown",
      "metadata": {
        "id": "L-BiqU50SSwO",
        "colab_type": "text"
      },
      "source": [
        "# PREPARING THE DATASET"
      ]
    },
    {
      "cell_type": "code",
      "metadata": {
        "id": "9M20m9z7Rb5_",
        "colab_type": "code",
        "colab": {}
      },
      "source": [
        "if not os.path.exists('/content/train'):\n",
        "  os.makedirs('/content/train')\n",
        "\n",
        "os.chdir('/content/drive/My Drive/UNSW-Intern')\n",
        "!unrar x '/content/drive/My Drive/UNSW-Intern/CEDAR-signatures.rar'  '/content/train'\n",
        "\n",
        "os.chdir('/content/train/signatures/full_org')\n",
        "!rm /content/train/signatures/full_org/Thumbs.db"
      ],
      "execution_count": null,
      "outputs": []
    },
    {
      "cell_type": "code",
      "metadata": {
        "id": "ujK7JXZyvqEH",
        "colab_type": "code",
        "colab": {}
      },
      "source": [
        "# DEFINING THE PARAMETERS\n",
        "total_classes = 55\n",
        "num_classes = 40\n",
        "img_per_class = 24\n",
        "batch_size = 32\n",
        "img_height = 128\n",
        "img_width = 128"
      ],
      "execution_count": 4,
      "outputs": []
    },
    {
      "cell_type": "code",
      "metadata": {
        "id": "oPeJ_13pTBpl",
        "colab_type": "code",
        "colab": {
          "base_uri": "https://localhost:8080/",
          "height": 292,
          "referenced_widgets": [
            "07168e707d45427c9841325f132f55ce",
            "60acbfa7b472499d9a74794b9da9993b",
            "97af262c2d1d4a6694edbb5b3ff0454a",
            "9b444a315800467ba1e8edaa5a02daf5",
            "9ab18d7031e644f8abfaca093176df5f",
            "e04c72928da647d7af1dbb4700852f59",
            "b2c704682416490c99bca9d4d44b8226",
            "1f904904015d4e17aa4c693bcccb77f4",
            "f4c84cebcfab410fa63bcf15b5cc809f",
            "4671b666ca744887b3278c240f076948",
            "fac4de927c774b08915e0e3d087bc3eb",
            "905114d777964d7d81f3acb151932a22",
            "c350e54ad7e6468aa0f3b08ad9e9b107",
            "4c2aedef78a8435599e44fde34a42132",
            "67662d4986e64d168d954dd63ac7d1a5",
            "2c65e1ff077649a1b28a6f516249fee4"
          ]
        },
        "outputId": "4b3fa502-4039-404e-a34a-5337574a1ab5"
      },
      "source": [
        "# LOADING TRAINING IMAGES\n",
        "\n",
        "def get_images(path, train=True):\n",
        "  ids = os.listdir(path + '/full_org')\n",
        "  if train:\n",
        "    X = np.zeros((num_classes, img_per_class, img_height, img_width,1), dtype = np.float32)\n",
        "    y = np.zeros((img_per_class*num_classes,1))\n",
        "\n",
        "  else:\n",
        "    X = np.zeros((total_classes-num_classes, img_per_class, img_height, img_width, 1), dtype = np.float32)\n",
        "    y = np.zeros((img_per_class*(total_classes-num_classes),1))\n",
        "\n",
        "  if train:\n",
        "    print('Getting and resizing training images ... ')\n",
        "    for i in tqdm_notebook(range(num_classes)):\n",
        "      for j in range(img_per_class):\n",
        "        #Load Images\n",
        "        img = load_img(path + '/full_org/' + 'original_' + str(i+1) + '_' + str(j+1) + '.png', grayscale=True)\n",
        "        x_img = img_to_array(img)\n",
        "        #print(\"YOOOOOO \",x_img.shape)\n",
        "        x_img = resize(x_img, (img_height, img_width), mode = 'constant', preserve_range=True)\n",
        "        #print(\"YOOOOOO \",x_img.shape)\n",
        "        #Load Images\n",
        "        y1 = np.array([i+1])\n",
        "        # Save Images       \n",
        "        X[i,j,...] = x_img/255\n",
        "        #print(\"YOOOOOO \",X.shape)\n",
        "        y[i*img_per_class + j] = y1\n",
        "\n",
        "    else:\n",
        "      print('Getting and resizing validation images ... ')\n",
        "      for i in tqdm_notebook(range(total_classes-num_classes)):\n",
        "        for j in range(img_per_class):\n",
        "          #Load Images\n",
        "          img = load_img(path + '/full_org/' + 'original_' + str(i+1+num_classes) + '_' + str(j+1) + '.png', grayscale=True)\n",
        "          x_img = img_to_array(img)\n",
        "          #print(\"YOOOOOO \",x_img.shape)\n",
        "          x_img = resize(x_img, (img_height, img_width), mode = 'constant', preserve_range=True)\n",
        "          #print(\"YOOOOOO \",x_img.shape)\n",
        "          #Load Images\n",
        "          y1 = np.array([i+1+num_classes])\n",
        "          # Save Images       \n",
        "          X[i,j,...] = x_img/255\n",
        "          #print(\"YOOOOOO \",X.shape)\n",
        "          y[i*img_per_class + j] = y1       \n",
        "\n",
        "  X = np.squeeze(X,axis=-1)\n",
        "  print('Done!')\n",
        "  return X,y\n",
        "\n",
        "X_train,y_train = get_images('/content/train/signatures', True)\n",
        "X_valid,y_valid = get_images('/content/train/signatures', False)"
      ],
      "execution_count": 5,
      "outputs": [
        {
          "output_type": "stream",
          "text": [
            "Getting and resizing training images ... \n"
          ],
          "name": "stdout"
        },
        {
          "output_type": "stream",
          "text": [
            "/usr/local/lib/python3.6/dist-packages/ipykernel_launcher.py:15: TqdmDeprecationWarning: This function will be removed in tqdm==5.0.0\n",
            "Please use `tqdm.notebook.tqdm` instead of `tqdm.tqdm_notebook`\n",
            "  from ipykernel import kernelapp as app\n"
          ],
          "name": "stderr"
        },
        {
          "output_type": "display_data",
          "data": {
            "application/vnd.jupyter.widget-view+json": {
              "model_id": "07168e707d45427c9841325f132f55ce",
              "version_minor": 0,
              "version_major": 2
            },
            "text/plain": [
              "HBox(children=(FloatProgress(value=0.0, max=40.0), HTML(value='')))"
            ]
          },
          "metadata": {
            "tags": []
          }
        },
        {
          "output_type": "stream",
          "text": [
            "/usr/local/lib/python3.6/dist-packages/keras_preprocessing/image/utils.py:107: UserWarning: grayscale is deprecated. Please use color_mode = \"grayscale\"\n",
            "  warnings.warn('grayscale is deprecated. Please use '\n"
          ],
          "name": "stderr"
        },
        {
          "output_type": "stream",
          "text": [
            "\n",
            "Getting and resizing validation images ... \n"
          ],
          "name": "stdout"
        },
        {
          "output_type": "stream",
          "text": [
            "/usr/local/lib/python3.6/dist-packages/ipykernel_launcher.py:32: TqdmDeprecationWarning: This function will be removed in tqdm==5.0.0\n",
            "Please use `tqdm.notebook.tqdm` instead of `tqdm.tqdm_notebook`\n"
          ],
          "name": "stderr"
        },
        {
          "output_type": "display_data",
          "data": {
            "application/vnd.jupyter.widget-view+json": {
              "model_id": "f4c84cebcfab410fa63bcf15b5cc809f",
              "version_minor": 0,
              "version_major": 2
            },
            "text/plain": [
              "HBox(children=(FloatProgress(value=0.0, max=15.0), HTML(value='')))"
            ]
          },
          "metadata": {
            "tags": []
          }
        },
        {
          "output_type": "stream",
          "text": [
            "\n",
            "Done!\n",
            "Done!\n"
          ],
          "name": "stdout"
        }
      ]
    },
    {
      "cell_type": "markdown",
      "metadata": {
        "id": "PUV8Cw2HSYhp",
        "colab_type": "text"
      },
      "source": [
        "# PREPARING PAIRS OF IMAGES FOR ONE SHOT LEARNING"
      ]
    },
    {
      "cell_type": "code",
      "metadata": {
        "id": "7AEp77BvN9VB",
        "colab_type": "code",
        "colab": {}
      },
      "source": [
        "def get_batch(X_train, batch_size, s='train'):\n",
        "\n",
        "  # Creating a batch of n pairs, half same class, half different class\n",
        "\n",
        "  if s == 'train':\n",
        "    X = X_train\n",
        "\n",
        "  n_classes, n_examples, h, w = X_train.shape\n",
        "\n",
        "  # Randomly sampling several classes to use in the batch\n",
        "  rng = np.random.default_rng()\n",
        "  categories = rng.choice(num_classes, size = (batch_size,), replace = False)\n",
        "\n",
        "  # Initialising two empty arrays for the input image batch\n",
        "  pairs = [np.zeros((batch_size, h, w, 1)) for i in range(2)] \n",
        "\n",
        "  # Initialising target vector\n",
        "  target = np.zeros((batch_size,))\n",
        "\n",
        "  # make one half of it '1s' and the other as '0s'\n",
        "  target[batch_size//2:] = 1\n",
        "  for i in range(batch_size):\n",
        "    category_1 = categories[i]\n",
        "    idx_1 = np.random.randint(0,n_examples)\n",
        "    pairs[0][i,:,:,:] = X[category_1,idx_1].reshape(h,w,1)\n",
        "\n",
        "    # Pick images of same class for 1st half, different for 2nd\n",
        "    idx_2 = np.random.randint(0,n_examples)\n",
        "    if i >= batch_size//2:\n",
        "      category_2 = category_1\n",
        "    else:\n",
        "      # add a random number to the category modulo n classes to ensure 2nd image has a different category\n",
        "      category_2 = (category_1 + np.random.randint(1,n_classes)) % (n_classes)\n",
        "\n",
        "    pairs[1][i,:,:,:] = X[category_2, idx_2].reshape(h,w,1)\n",
        "\n",
        "\n",
        "  return pairs, target\n",
        "\n",
        "\n",
        "#pairs,target = get_batch(X, batch_size,\"train\")"
      ],
      "execution_count": 6,
      "outputs": []
    },
    {
      "cell_type": "code",
      "metadata": {
        "id": "8NxnYkoSB8NF",
        "colab_type": "code",
        "colab": {}
      },
      "source": [
        "# GENERATOR FUNCTION FOR THE GET_BATCH FUNCTION TO INPUT IN FIT.GENERATOR CALL\n",
        "\n",
        "def generate(Xtrain, batch_size, s = \"train\"):\n",
        "  while True:\n",
        "    pairs,target = get_batch(Xtrain,batch_size, s)\n",
        "    yield pairs,target\n"
      ],
      "execution_count": 7,
      "outputs": []
    },
    {
      "cell_type": "code",
      "metadata": {
        "id": "rM6SO6tHXcwX",
        "colab_type": "code",
        "colab": {}
      },
      "source": [
        "def initialize_weights(shape, name=None):\n",
        "    \"\"\"\n",
        "        The paper, http://www.cs.utoronto.ca/~gkoch/files/msc-thesis.pdf\n",
        "        suggests to initialize CNN layer weights with mean as 0.0 and standard deviation of 0.01\n",
        "    \"\"\"\n",
        "    return np.random.normal(loc = 0.0, scale = 1e-2, size = shape)\n",
        "\n",
        "\n",
        "def initialize_bias(shape, name=None):\n",
        "    \"\"\"\n",
        "        The paper, http://www.cs.utoronto.ca/~gkoch/files/msc-thesis.pdf\n",
        "        suggests to initialize CNN layer bias with mean as 0.5 and standard deviation of 0.01\n",
        "    \"\"\"\n",
        "    return np.random.normal(loc = 0.5, scale = 1e-2, size = shape)    "
      ],
      "execution_count": 8,
      "outputs": []
    },
    {
      "cell_type": "markdown",
      "metadata": {
        "id": "rYeBdHb8SoJl",
        "colab_type": "text"
      },
      "source": [
        "# DEFINING THE MODEL ARCHITECTURE"
      ]
    },
    {
      "cell_type": "code",
      "metadata": {
        "id": "r-8Xoz4hPRLC",
        "colab_type": "code",
        "colab": {}
      },
      "source": [
        "# DEFINING THE MODEL ARCHITECTURE \n",
        "\n",
        "def get_siamese_model(input_shape):\n",
        "    \"\"\"\n",
        "        Model architecture\n",
        "    \"\"\"\n",
        "    \n",
        "    # Define the tensors for the two input images\n",
        "    left_input = Input(input_shape)\n",
        "    right_input = Input(input_shape)\n",
        "    \n",
        "    # Convolutional Neural Network\n",
        "    model = Sequential()\n",
        "    model.add(Conv2D(64, (10,10), activation='relu', input_shape=input_shape,\n",
        "                   kernel_initializer=initializers.RandomNormal(stddev=0.01), kernel_regularizer=l2(2e-4)))\n",
        "    model.add(MaxPooling2D())\n",
        "    model.add(Conv2D(128, (7,7), activation='relu',\n",
        "                     kernel_initializer=initializers.RandomNormal(stddev=0.01),\n",
        "                     bias_initializer=initializers.RandomNormal(mean=0.5,stddev=0.01), kernel_regularizer=l2(2e-4)))\n",
        "    model.add(MaxPooling2D())\n",
        "    model.add(Conv2D(128, (4,4), activation='relu', kernel_initializer=initializers.RandomNormal(stddev=0.01),\n",
        "                     bias_initializer=initializers.RandomNormal(mean=0.5,stddev=0.01), kernel_regularizer=l2(2e-4)))\n",
        "    model.add(MaxPooling2D())\n",
        "    model.add(Conv2D(256, (4,4), activation='relu', kernel_initializer=initializers.RandomNormal(stddev=0.01),\n",
        "                     bias_initializer=initializers.RandomNormal(mean=0.5,stddev=0.01), kernel_regularizer=l2(2e-4)))\n",
        "    model.add(Flatten())\n",
        "    model.add(Dense(4096, activation='sigmoid',\n",
        "                   kernel_regularizer=l2(1e-3),\n",
        "                   kernel_initializer=initializers.RandomNormal(stddev=0.01),bias_initializer=initializers.RandomNormal(mean=0.5,stddev=0.01)))\n",
        "    \n",
        "    # Generate the encodings (feature vectors) for the two images\n",
        "    encoded_l = model(left_input)\n",
        "    encoded_r = model(right_input)\n",
        "    \n",
        "    # Add a customized layer to compute the absolute difference between the encodings\n",
        "    L1_layer = Lambda(lambda tensors:K.abs(tensors[0] - tensors[1]))\n",
        "    L1_distance = L1_layer([encoded_l, encoded_r])\n",
        "    \n",
        "    # Add a dense layer with a sigmoid unit to generate the similarity score\n",
        "    prediction = Dense(1,activation='sigmoid',bias_initializer=initializers.RandomNormal(mean=0.5,stddev=0.01))(L1_distance)\n",
        "    \n",
        "    # Connect the inputs with the outputs\n",
        "    siamese_net = Model(inputs=[left_input,right_input],outputs=prediction)\n",
        "    \n",
        "    # return the model\n",
        "    return siamese_net"
      ],
      "execution_count": 32,
      "outputs": []
    },
    {
      "cell_type": "markdown",
      "metadata": {
        "id": "T1AbsD2wSwdT",
        "colab_type": "text"
      },
      "source": [
        "# VALIDATION AND TESTING FUNCTIONS"
      ]
    },
    {
      "cell_type": "code",
      "metadata": {
        "id": "u06nNngVBtl8",
        "colab_type": "code",
        "colab": {}
      },
      "source": [
        "  def make_oneshot_task(N,s=\"val\"):\n",
        "\n",
        "        if s == \"val\":\n",
        "          X = X_valid\n",
        "        else:\n",
        "          X = X_train  \n",
        "\n",
        "        # Creating pairs of test image, support set for testing N way one shot learning\n",
        "        n_classes, n_examples, h, w = X.shape\n",
        "        indices = np.random.randint(0,n_examples,size=(N,))\n",
        "\n",
        "        categories = rng.choice(range(n_classes),size=(N,),replace=False)\n",
        "        true_category = categories[0]\n",
        "        ex1, ex2 = rng.choice(n_examples,replace=False,size=(2,))\n",
        "        test_image = np.asarray([X[true_category,ex1,:,:]]*N).reshape(N, w, h,1)\n",
        "        support_set = X[categories,indices,:,:]\n",
        "        support_set[0,:,:] = X[true_category,ex2]\n",
        "        support_set = support_set.reshape(N, w, h,1)\n",
        "        targets = np.zeros((N,))\n",
        "        targets[0] = 1\n",
        "        targets, test_image, support_set = shuffle(targets, test_image, support_set)\n",
        "        pairs = [test_image,support_set]\n",
        "\n",
        "        return pairs, targets\n",
        "  \n",
        "  def test_oneshot(model,N,k,s=\"val\",verbose=0):\n",
        "        \"\"\"Test average N way oneshot learning accuracy of a siamese neural net over k one-shot tasks\"\"\"\n",
        "        n_correct = 0\n",
        "        if verbose:\n",
        "            print(\"Evaluating model on {} random {} way one-shot learning tasks ... \".format(k,N))\n",
        "        for i in range(k):\n",
        "            inputs, targets = make_oneshot_task(N,s)\n",
        "            probs = model.predict(inputs)\n",
        "            if np.argmax(probs) == np.argmax(targets):\n",
        "                n_correct+=1\n",
        "        percent_correct = (100.0*n_correct / k)\n",
        "        if verbose:\n",
        "            print(\"Got an average of {}% {} way one-shot learning accuracy \".format(percent_correct,N))\n",
        "        return percent_correct\n",
        "\n"
      ],
      "execution_count": 39,
      "outputs": []
    },
    {
      "cell_type": "code",
      "metadata": {
        "id": "84sgkviEVIUQ",
        "colab_type": "code",
        "colab": {
          "base_uri": "https://localhost:8080/",
          "height": 342
        },
        "outputId": "fd5a3c76-efc9-47de-9a1e-db19568705df"
      },
      "source": [
        "model = get_siamese_model((128,128,1))\n",
        "model.summary()"
      ],
      "execution_count": 34,
      "outputs": [
        {
          "output_type": "stream",
          "text": [
            "Model: \"functional_7\"\n",
            "__________________________________________________________________________________________________\n",
            "Layer (type)                    Output Shape         Param #     Connected to                     \n",
            "==================================================================================================\n",
            "input_7 (InputLayer)            [(None, 128, 128, 1) 0                                            \n",
            "__________________________________________________________________________________________________\n",
            "input_8 (InputLayer)            [(None, 128, 128, 1) 0                                            \n",
            "__________________________________________________________________________________________________\n",
            "sequential_3 (Sequential)       (None, 4096)         68307776    input_7[0][0]                    \n",
            "                                                                 input_8[0][0]                    \n",
            "__________________________________________________________________________________________________\n",
            "lambda_3 (Lambda)               (None, 4096)         0           sequential_3[0][0]               \n",
            "                                                                 sequential_3[1][0]               \n",
            "__________________________________________________________________________________________________\n",
            "dense_7 (Dense)                 (None, 1)            4097        lambda_3[0][0]                   \n",
            "==================================================================================================\n",
            "Total params: 68,311,873\n",
            "Trainable params: 68,311,873\n",
            "Non-trainable params: 0\n",
            "__________________________________________________________________________________________________\n"
          ],
          "name": "stdout"
        }
      ]
    },
    {
      "cell_type": "markdown",
      "metadata": {
        "id": "Im4mRyIzS5O0",
        "colab_type": "text"
      },
      "source": [
        "# COMPILING AND TRAINING THE MODEL "
      ]
    },
    {
      "cell_type": "code",
      "metadata": {
        "id": "LOyiY6jvWgzf",
        "colab_type": "code",
        "colab": {}
      },
      "source": [
        "optimizer = Adam(lr = 0.00006)\n",
        "model.compile(loss=\"binary_crossentropy\",optimizer=optimizer)"
      ],
      "execution_count": 35,
      "outputs": []
    },
    {
      "cell_type": "code",
      "metadata": {
        "id": "a8iExb8ab5Rm",
        "colab_type": "code",
        "colab": {}
      },
      "source": [
        "# TRAINING THE MODEL\n",
        "\n",
        "evaluate_every = 10 # interval for evaluating on one-shot tasks\n",
        "loss_every = 10 # interval for printing loss (iterations)\n",
        "batch_size = 20\n",
        "n_iter = 5000\n",
        "N_way = 10 # how many classes for testing one-shot tasks>\n",
        "n_val = 25 # how many one-shot tasks to validate on?\n",
        "best = -1\n",
        "weights_path = 'Siamese.h5'\n",
        "weights_path2 = '/content/drive/My Drive/UNSW-Intern/weights/Siamese.h5'\n",
        "if os.path.exists(weights_path2):\n",
        "  model.load_weights(weights_path2)\n",
        "\n",
        "\n",
        "val_accs = []\n",
        "losses = []\n",
        "print(\"Starting training process!\")\n",
        "t_start = time.time()\n",
        "for i in range(1, n_iter):\n",
        "    (inputs,targets)=get_batch(X_train,batch_size,\"train\")\n",
        "    loss=model.train_on_batch(inputs,targets)\n",
        "    print(\"-------------\")\n",
        "    print(\"Loss after iteration {0}: {1} \\n\".format(i,loss)) \n",
        "    if i % evaluate_every == 0:\n",
        "        print(\"Time for {0} iterations: {1}\".format(i, time.time()-t_start))\n",
        "        val_acc = test_oneshot(model,N_way,n_val,verbose=True)\n",
        "        val_accs.append(val_acc)  # Storing validation accuracies after every 10 iterations\n",
        "        if val_acc >= best:\n",
        "            print(\"Current best: {0}, previous best: {1}\".format(val_acc, best),\"therefore\",\"saving the weights to: {0}\".format(weights_path))\n",
        "            model.save_weights(weights_path2)\n",
        "            best=val_acc\n",
        "    \n",
        "    if i % loss_every == 0:\n",
        "        print(\"iteration {}, training loss: {:.2f},\".format(i,loss))\n",
        "        losses.append(loss)  # Storing losses after every 10 iterations\n",
        "\n"
      ],
      "execution_count": null,
      "outputs": []
    },
    {
      "cell_type": "code",
      "metadata": {
        "id": "7LiJhMhfchkS",
        "colab_type": "code",
        "colab": {
          "base_uri": "https://localhost:8080/",
          "height": 281
        },
        "outputId": "3ecfb405-b4e5-45e7-f5cb-fe3e153974ee"
      },
      "source": [
        "plt.plot(losses,label = 'losses')\n",
        "plt.plot(val_accs,label = 'validation-accuracy')\n",
        "plt.legend()"
      ],
      "execution_count": 37,
      "outputs": [
        {
          "output_type": "execute_result",
          "data": {
            "text/plain": [
              "<matplotlib.legend.Legend at 0x7f02ac364710>"
            ]
          },
          "metadata": {
            "tags": []
          },
          "execution_count": 37
        },
        {
          "output_type": "display_data",
          "data": {
            "image/png": "[encoded data removed]",
            "text/plain": [
              "<Figure size 432x288 with 1 Axes>"
            ]
          },
          "metadata": {
            "tags": [],
            "needs_background": "light"
          }
        }
      ]
    },
    {
      "cell_type": "markdown",
      "metadata": {
        "id": "__Mwd9VoS-kG",
        "colab_type": "text"
      },
      "source": [
        "# TESTING THE MODEL WITH N-WAY LEARNING METRICS"
      ]
    },
    {
      "cell_type": "code",
      "metadata": {
        "id": "A42-0waPAfaN",
        "colab_type": "code",
        "colab": {
          "base_uri": "https://localhost:8080/",
          "height": 833
        },
        "outputId": "0124d393-040e-4739-d5ec-c85593406bae"
      },
      "source": [
        " # TESTING THE MODEL \n",
        " \n",
        "def nearest_neighbour_correct(pairs,targets):\n",
        "    \"\"\"returns 1 if nearest neighbour gets the correct answer for a one-shot task\n",
        "        given by (pairs, targets)\"\"\"\n",
        "    L2_distances = np.zeros_like(targets)\n",
        "    for i in range(len(targets)):\n",
        "        L2_distances[i] = np.sum(np.sqrt(pairs[0][i]**2 - pairs[1][i]**2))\n",
        "    if np.argmin(L2_distances) == np.argmax(targets):\n",
        "        return 1\n",
        "    return 0\n",
        "\n",
        "\n",
        "def test_nn_accuracy(N_ways,n_trials):\n",
        "    \"\"\"Returns accuracy of one shot \"\"\"\n",
        "    print(\"Evaluating nearest neighbour on {} unique {} way one-shot learning tasks ...\".format(n_trials,N_ways))\n",
        "\n",
        "    n_right = 0\n",
        "    \n",
        "    for i in range(n_trials):\n",
        "        pairs,targets = make_oneshot_task(N_ways,\"val\")\n",
        "        correct = nearest_neighbour_correct(pairs,targets)\n",
        "        n_right += correct\n",
        "    return 100.0 * n_right / n_trials\n",
        "\n",
        "\n",
        "ways = np.arange(1, 15, 2)\n",
        "resume =  False\n",
        "validation_accs, train_accs,nn_accs = [], [], []\n",
        "trials = 450\n",
        "for N in ways:\n",
        "    validation_accs.append(test_oneshot(model, N,trials, \"val\", verbose=True))\n",
        "    train_accs.append(test_oneshot(model, N,trials, \"train\", verbose=True))\n",
        "    nn_accs.append(test_nn_accuracy(N,trials))\n",
        "    \n",
        "#plot the accuracy vs num categories for each\n",
        "plt.plot(ways, validation_accs, \"m\")\n",
        "plt.plot(ways, train_accs, \"y\")\n",
        "plt.plot(ways, nn_accs, \"c\")\n",
        "\n",
        "plt.plot(ways,100.0/ways,\"r\")\n",
        "plt.show()"
      ],
      "execution_count": 41,
      "outputs": [
        {
          "output_type": "stream",
          "text": [
            "Evaluating model on 450 random 1 way one-shot learning tasks ... \n",
            "Got an average of 100.0% 1 way one-shot learning accuracy \n",
            "Evaluating model on 450 random 1 way one-shot learning tasks ... \n",
            "Got an average of 100.0% 1 way one-shot learning accuracy \n",
            "Evaluating nearest neighbour on 450 unique 1 way one-shot learning tasks ...\n",
            "Evaluating model on 450 random 3 way one-shot learning tasks ... \n",
            "Got an average of 29.555555555555557% 3 way one-shot learning accuracy \n",
            "Evaluating model on 450 random 3 way one-shot learning tasks ... \n",
            "Got an average of 99.55555555555556% 3 way one-shot learning accuracy \n",
            "Evaluating nearest neighbour on 450 unique 3 way one-shot learning tasks ...\n",
            "Evaluating model on 450 random 5 way one-shot learning tasks ... \n",
            "Got an average of 16.22222222222222% 5 way one-shot learning accuracy \n",
            "Evaluating model on 450 random 5 way one-shot learning tasks ... \n",
            "Got an average of 99.55555555555556% 5 way one-shot learning accuracy \n",
            "Evaluating nearest neighbour on 450 unique 5 way one-shot learning tasks ...\n",
            "Evaluating model on 450 random 7 way one-shot learning tasks ... \n",
            "Got an average of 11.777777777777779% 7 way one-shot learning accuracy \n",
            "Evaluating model on 450 random 7 way one-shot learning tasks ... \n",
            "Got an average of 99.33333333333333% 7 way one-shot learning accuracy \n",
            "Evaluating nearest neighbour on 450 unique 7 way one-shot learning tasks ...\n",
            "Evaluating model on 450 random 9 way one-shot learning tasks ... \n",
            "Got an average of 9.555555555555555% 9 way one-shot learning accuracy \n",
            "Evaluating model on 450 random 9 way one-shot learning tasks ... \n",
            "Got an average of 98.66666666666667% 9 way one-shot learning accuracy \n",
            "Evaluating nearest neighbour on 450 unique 9 way one-shot learning tasks ...\n",
            "Evaluating model on 450 random 11 way one-shot learning tasks ... \n",
            "Got an average of 9.11111111111111% 11 way one-shot learning accuracy \n",
            "Evaluating model on 450 random 11 way one-shot learning tasks ... \n",
            "Got an average of 99.77777777777777% 11 way one-shot learning accuracy \n",
            "Evaluating nearest neighbour on 450 unique 11 way one-shot learning tasks ...\n",
            "Evaluating model on 450 random 13 way one-shot learning tasks ... \n",
            "Got an average of 9.555555555555555% 13 way one-shot learning accuracy \n",
            "Evaluating model on 450 random 13 way one-shot learning tasks ... \n",
            "Got an average of 98.0% 13 way one-shot learning accuracy \n",
            "Evaluating nearest neighbour on 450 unique 13 way one-shot learning tasks ...\n"
          ],
          "name": "stdout"
        },
        {
          "output_type": "display_data",
          "data": {
            "image/png": "[encoded data removed]",
            "text/plain": [
              "<Figure size 432x288 with 1 Axes>"
            ]
          },
          "metadata": {
            "tags": [],
            "needs_background": "light"
          }
        }
      ]
    },
    {
      "cell_type": "code",
      "metadata": {
        "id": "XyGggszcG3NM",
        "colab_type": "code",
        "colab": {}
      },
      "source": [
        ""
      ],
      "execution_count": null,
      "outputs": []
    }
  ]
}